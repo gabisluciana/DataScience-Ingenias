{
 "cells": [
  {
   "cell_type": "markdown",
   "metadata": {
    "id": "Gp2WddtV9IwG"
   },
   "source": [
    "# Programa Ingenias+ Data Science"
   ]
  },
  {
   "cell_type": "markdown",
   "metadata": {
    "id": "H4M1yVbf9IwH"
   },
   "source": [
    "Como dijimos en clases anteriores, Python tiene implementadas muchas librerias para poder trabajar con datos. En la clase de hoy trabajaremos con una de ellas: `Numpy`."
   ]
  },
  {
   "cell_type": "markdown",
   "metadata": {
    "id": "GdTT8WeL9IwI"
   },
   "source": [
    "Antes de comenzar, vamos a hablar un poco de esta libreria o modulo.\n",
    "\n",
    "**Numpy** es una librería optimizada para realizar cálculos numéricos con vectores y matrices. A diferencia de otros lenguajes de programación, Python no posee en su estructura central la figura de matrices. Eso quiere decir que para poder trabajar con esta estructura de datos deberiamos trabajar con listas de listas. NumPy introduce el concepto de arrays o matrices."
   ]
  },
  {
   "cell_type": "markdown",
   "metadata": {
    "id": "qWkq3EHK9IwK"
   },
   "source": [
    "Al ser de código abierto, `numpy` posee una documentación muy amplia que es **SIEMPRE RECOMENDABLE** consultar."
   ]
  },
  {
   "cell_type": "markdown",
   "metadata": {
    "id": "nxe3KLUO9IwL"
   },
   "source": [
    "- [Documentacion NumPy](https://devdocs.io/numpy/)"
   ]
  },
  {
   "cell_type": "markdown",
   "metadata": {
    "id": "l1Ay3nSs9IwN"
   },
   "source": [
    "## Clase 4: Introduccion a NumPy"
   ]
  },
  {
   "cell_type": "markdown",
   "metadata": {
    "id": "X03mviQS9IyL"
   },
   "source": [
    "# Ejercicios\n",
    "\n",
    "1. Crear un arreglo de ceros de longitud 12\n",
    "2. Crear un arreglo de longitud 10 con ceros en todas sus posiciones y un 10 en la posición número 5\n",
    "3. Crear un arreglo que tenga los números del 10 al 49\n",
    "4. Crear una arreglo 2d de shape (3, 3) que tenga los números del 0 al 8\n",
    "5. Crear un arreglo de números aleatorios de longitud 100 y obtener su media y varianza\n",
    "6. Calcular la media de un arreglo usando np.sum\n",
    "7. Calcular la varianza de un arreglo usando np.sum y np.mean\n",
    "8. Crear un array de números aleatorios usando np.random.randn.\n"
   ]
  },
  {
   "cell_type": "code",
   "execution_count": 1,
   "metadata": {},
   "outputs": [],
   "source": [
    "import numpy as np"
   ]
  },
  {
   "cell_type": "code",
   "execution_count": 2,
   "metadata": {
    "id": "G0NMKT609IyM"
   },
   "outputs": [
    {
     "data": {
      "text/plain": [
       "array([0., 0., 0., 0., 0., 0., 0., 0., 0., 0., 0., 0.])"
      ]
     },
     "execution_count": 2,
     "metadata": {},
     "output_type": "execute_result"
    }
   ],
   "source": [
    "#1. Crear un arreglo de ceros de longitud 12\n",
    "arr1 = np.zeros(12)\n",
    "arr1"
   ]
  },
  {
   "cell_type": "code",
   "execution_count": 3,
   "metadata": {},
   "outputs": [
    {
     "data": {
      "text/plain": [
       "array([ 0,  0,  0,  0,  0, 10,  0,  0,  0,  0])"
      ]
     },
     "execution_count": 3,
     "metadata": {},
     "output_type": "execute_result"
    }
   ],
   "source": [
    "#2. Crear un arreglo de longitud 10 con ceros en todas sus posiciones y un 10 en la posición número 5\n",
    "#Creo un arreglo de 10 ceros, especificando que sean de tipo número entero\n",
    "arr2 = np.zeros(10, int)\n",
    "#Cambio el valor de la quinta posición (para Python, visiblemente es la sexta)\n",
    "arr2[5] = 10\n",
    "arr2"
   ]
  },
  {
   "cell_type": "code",
   "execution_count": 4,
   "metadata": {},
   "outputs": [
    {
     "data": {
      "text/plain": [
       "array([10, 11, 12, 13, 14, 15, 16, 17, 18, 19, 20, 21, 22, 23, 24, 25, 26,\n",
       "       27, 28, 29, 30, 31, 32, 33, 34, 35, 36, 37, 38, 39, 40, 41, 42, 43,\n",
       "       44, 45, 46, 47, 48, 49])"
      ]
     },
     "execution_count": 4,
     "metadata": {},
     "output_type": "execute_result"
    }
   ],
   "source": [
    "#3. Crear un arreglo que tenga los números del 10 al 49\n",
    "arr3 = np.arange(10,50)\n",
    "arr3"
   ]
  },
  {
   "cell_type": "code",
   "execution_count": 5,
   "metadata": {},
   "outputs": [
    {
     "data": {
      "text/plain": [
       "array([[0, 1, 2],\n",
       "       [3, 4, 5],\n",
       "       [6, 7, 8]])"
      ]
     },
     "execution_count": 5,
     "metadata": {},
     "output_type": "execute_result"
    }
   ],
   "source": [
    "#4. Crear una arreglo 2d de shape (3, 3) que tenga los números del 0 al 8\n",
    "#Creo un arreglo de una dimensión con los números del 0 al 8 y luego le doy fomra de 2 dimesiones de 3x3\n",
    "arr4 = np.arange(9).reshape(3,3)\n",
    "arr4"
   ]
  },
  {
   "cell_type": "code",
   "execution_count": 8,
   "metadata": {},
   "outputs": [
    {
     "name": "stdout",
     "output_type": "stream",
     "text": [
      "[38 41 23  6  8  7  2 25 12 29 11  4 19 18 33 45 15 48 17 43 22 38 49 11\n",
      " 44 38 22  0  3 10 38 43 39 36 43 22 45  0  3 44 18 26  7 18 30  3 14 25\n",
      " 37 30 14 41 20 10 19 39 45  5 17 38 39 10 28 43 38 33 11  2  1 17 47 16\n",
      " 17 43 23  2 12 49 45 14  8  0  5 10 22 13 43  6 27  2  0 10 21 45 40 44\n",
      " 32 24  1  5]\n",
      "Media: 22.98\n",
      "Varianza: 237.53960000000004\n"
     ]
    }
   ],
   "source": [
    "#5. Crear un arreglo de números aleatorios de longitud 100 y obtener su media y varianza\n",
    "#Creo un arreglo de 100 números enteros que varíen del 0 al 49\n",
    "arr5 = np.random.randint(50, size=100)\n",
    "print(arr5)\n",
    "print(f'Media: {arr5.mean()}') #También es posible con np.mean(arr5)\n",
    "print(f'Varianza: {arr5.var()}') #También es posible con np.var(arr5)"
   ]
  },
  {
   "cell_type": "code",
   "execution_count": 10,
   "metadata": {},
   "outputs": [
    {
     "name": "stdout",
     "output_type": "stream",
     "text": [
      "[78 67 25 92 87 52  5  2 73 44]\n",
      "Media: 52.5 - np.mean: 52.5\n"
     ]
    }
   ],
   "source": [
    "#6. Calcular la media de un arreglo usando np.sum\n",
    "#Creo un arreglo de números aleatoreos entre 0 y 99, de longitud 10\n",
    "arr6 = np.random.randint(0,100,10)\n",
    "#Calculo la media como suma de todos los valores del arreglo (sum) divido la cantidad de elementos en el arreglo (size)\n",
    "media = arr6.sum()/arr6.size\n",
    "print(arr6)\n",
    "#Imprimo la media calculada con sum y la media con numpy para comparar\n",
    "print(f'Media: {media} - np.mean: {np.mean(arr6)}')"
   ]
  },
  {
   "cell_type": "code",
   "execution_count": 11,
   "metadata": {},
   "outputs": [
    {
     "name": "stdout",
     "output_type": "stream",
     "text": [
      "Varianza calculada: 90.24 - np.var: 90.24\n"
     ]
    }
   ],
   "source": [
    "#7. Calcular la varianza de un arreglo usando np.sum y np.mean\n",
    "#Creo un arreglo de números aleatoreos entre 0 y 29, de longitud 10\n",
    "arr7 = np.random.randint(0,30,10)\n",
    "#Calculo la media del arreglo y lo guardo en la variable 'media'\n",
    "media = np.mean(arr7)\n",
    "#Calculo, y almaceno en variable 'var', la varizanza como: \n",
    "# la suma (np.sum) del cuadrado (**2) de la diferencia de cada elemento del arreglo con su media (arr7 - media)\n",
    "# divido la cantidad de elementos del arreglo (size)\n",
    "var = np.sum((arr7 - media) ** 2)/arr7.size\n",
    "#Muestro la varianza de la variable 'var' y la varianza calculada con numpy para comparar\n",
    "print(f\"Varianza calculada: {var} - np.var: {arr7.var()}\")"
   ]
  },
  {
   "cell_type": "code",
   "execution_count": 12,
   "metadata": {},
   "outputs": [
    {
     "data": {
      "text/plain": [
       "array([ 0.29183558,  0.43654352,  0.30411994, -1.22859613,  0.49191263,\n",
       "       -1.27083066, -0.59859925,  0.4580239 , -0.13044037,  1.07328334])"
      ]
     },
     "execution_count": 12,
     "metadata": {},
     "output_type": "execute_result"
    }
   ],
   "source": [
    "#8. Crear un array de números aleatorios usando np.random.randn\n",
    "arr8 = np.random.randn(10)\n",
    "arr8"
   ]
  }
 ],
 "metadata": {
  "colab": {
   "provenance": [
    {
     "file_id": "1yM9mEW0U6gxoaAFhZyw2DpZdZMT5v10J",
     "timestamp": 1676044383219
    },
    {
     "file_id": "1RzLcI0RY1YrYoMa7PW17OME9qOO4jJ4s",
     "timestamp": 1676044338043
    }
   ]
  },
  "kernelspec": {
   "display_name": "Python 3 (ipykernel)",
   "language": "python",
   "name": "python3"
  },
  "language_info": {
   "codemirror_mode": {
    "name": "ipython",
    "version": 3
   },
   "file_extension": ".py",
   "mimetype": "text/x-python",
   "name": "python",
   "nbconvert_exporter": "python",
   "pygments_lexer": "ipython3",
   "version": "3.11.7"
  }
 },
 "nbformat": 4,
 "nbformat_minor": 4
}
